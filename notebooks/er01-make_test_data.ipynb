{
 "cells": [
  {
   "cell_type": "code",
   "execution_count": 1,
   "metadata": {},
   "outputs": [
    {
     "name": "stderr",
     "output_type": "stream",
     "text": [
      "/home/etienne-reboul/anaconda3/envs/Menger_Curvature/lib/python3.10/site-packages/tqdm/auto.py:21: TqdmWarning: IProgress not found. Please update jupyter and ipywidgets. See https://ipywidgets.readthedocs.io/en/stable/user_install.html\n",
      "  from .autonotebook import tqdm as notebook_tqdm\n"
     ]
    }
   ],
   "source": [
    "import os\n",
    "import MDAnalysis as mda\n",
    "from numpy.testing import assert_allclose\n",
    "import numpy as np"
   ]
  },
  {
   "cell_type": "code",
   "execution_count": 2,
   "metadata": {},
   "outputs": [],
   "source": [
    "from menger.data import files\n",
    "from menger.tests.utils import retrieve_results,make_universe,make_filename"
   ]
  },
  {
   "cell_type": "code",
   "execution_count": 3,
   "metadata": {},
   "outputs": [],
   "source": [
    "from menger.analysis.mengercurvature import MengerCurvature"
   ]
  },
  {
   "cell_type": "code",
   "execution_count": 4,
   "metadata": {},
   "outputs": [],
   "source": [
    "md_name=\"tubulin_chain_a\""
   ]
  },
  {
   "cell_type": "code",
   "execution_count": 5,
   "metadata": {},
   "outputs": [
    {
     "name": "stderr",
     "output_type": "stream",
     "text": [
      "/home/etienne-reboul/anaconda3/envs/Menger_Curvature/lib/python3.10/site-packages/MDAnalysis/coordinates/DCD.py:165: DeprecationWarning: DCDReader currently makes independent timesteps by copying self.ts while other readers update self.ts inplace. This behavior will be changed in 3.0 to be the same as other readers. Read more at https://github.com/MDAnalysis/mdanalysis/issues/3889 to learn if this change in behavior might affect you.\n",
      "  warnings.warn(\"DCDReader currently makes independent timesteps\"\n"
     ]
    }
   ],
   "source": [
    "u=make_universe(\n",
    "    topology_name=f\"{md_name}.pdb\",\n",
    "    trajectory_name=f\"{md_name}.dcd\",\n",
    ")"
   ]
  },
  {
   "cell_type": "code",
   "execution_count": 6,
   "metadata": {},
   "outputs": [
    {
     "name": "stdout",
     "output_type": "stream",
     "text": [
      "Chain IDs in the universe: {'A'}\n"
     ]
    }
   ],
   "source": [
    "chainid = set(u.atoms.chainIDs)\n",
    "print(f\"Chain IDs in the universe: {chainid}\")"
   ]
  },
  {
   "cell_type": "code",
   "execution_count": 7,
   "metadata": {},
   "outputs": [],
   "source": [
    "template_dict = {\n",
    "    \"md_name\": md_name,\n",
    "    \"chainid\": \"A\",\n",
    "    \"select\" : \"name CA\",\n",
    "\n",
    "}"
   ]
  },
  {
   "cell_type": "code",
   "execution_count": 8,
   "metadata": {},
   "outputs": [],
   "source": [
    "params_list = []"
   ]
  },
  {
   "cell_type": "code",
   "execution_count": 9,
   "metadata": {},
   "outputs": [],
   "source": [
    "output_dir = \"../menger/data/test_data\"\n",
    "\n",
    "# Test different spacings and chain IDs\n",
    "for spacing in range(1,6):\n",
    "    # Test with all chain IDs\n",
    "    for chain in chainid:\n",
    "        params_dict = {\n",
    "            'topology_name': f'{md_name}.pdb',\n",
    "            'trajectory_name': f'{md_name}.dcd', \n",
    "            'select': f\"name CA and chainID {chain}\",\n",
    "            'spacing': spacing,\n",
    "            'md_name': md_name,\n",
    "            'chainid': chain.lower(),\n",
    "            'digit_precision': 7\n",
    "        }\n",
    "        params_list.append(params_dict)\n",
    "        menger_analyser = MengerCurvature(u, f\"name CA and chainID {chain}\", spacing=spacing)\n",
    "        menger_analyser.run()\n",
    "        results = menger_analyser.results\n",
    "\n",
    "        # Define test cases\n",
    "        test_cases = [\n",
    "            ('menger_array', results.menger_array),\n",
    "            ('local_curvatures', results.local_curvatures),\n",
    "            ('local_flexibilities', results.local_flexibilities)\n",
    "        ]\n",
    "        # write results to file\n",
    "        # Save full menger array\n",
    "        for attr_name, test_value in test_cases:\n",
    "\n",
    "            filename = make_filename(md_name, spacing=spacing, chainid=chain.lower(), metric=attr_name)\n",
    "   \n",
    "            np.save(os.path.join(output_dir, filename), test_value)     \n",
    "    \n",
    "\n",
    "\n",
    "\n",
    "    "
   ]
  },
  {
   "cell_type": "code",
   "execution_count": 10,
   "metadata": {},
   "outputs": [
    {
     "data": {
      "text/plain": [
       "[{'topology_name': 'tubulin_chain_a.pdb',\n",
       "  'trajectory_name': 'tubulin_chain_a.dcd',\n",
       "  'select': 'name CA and chainID A',\n",
       "  'spacing': 1,\n",
       "  'md_name': 'tubulin_chain_a',\n",
       "  'chainid': 'a',\n",
       "  'digit_precision': 7},\n",
       " {'topology_name': 'tubulin_chain_a.pdb',\n",
       "  'trajectory_name': 'tubulin_chain_a.dcd',\n",
       "  'select': 'name CA and chainID A',\n",
       "  'spacing': 2,\n",
       "  'md_name': 'tubulin_chain_a',\n",
       "  'chainid': 'a',\n",
       "  'digit_precision': 7},\n",
       " {'topology_name': 'tubulin_chain_a.pdb',\n",
       "  'trajectory_name': 'tubulin_chain_a.dcd',\n",
       "  'select': 'name CA and chainID A',\n",
       "  'spacing': 3,\n",
       "  'md_name': 'tubulin_chain_a',\n",
       "  'chainid': 'a',\n",
       "  'digit_precision': 7},\n",
       " {'topology_name': 'tubulin_chain_a.pdb',\n",
       "  'trajectory_name': 'tubulin_chain_a.dcd',\n",
       "  'select': 'name CA and chainID A',\n",
       "  'spacing': 4,\n",
       "  'md_name': 'tubulin_chain_a',\n",
       "  'chainid': 'a',\n",
       "  'digit_precision': 7},\n",
       " {'topology_name': 'tubulin_chain_a.pdb',\n",
       "  'trajectory_name': 'tubulin_chain_a.dcd',\n",
       "  'select': 'name CA and chainID A',\n",
       "  'spacing': 5,\n",
       "  'md_name': 'tubulin_chain_a',\n",
       "  'chainid': 'a',\n",
       "  'digit_precision': 7}]"
      ]
     },
     "execution_count": 10,
     "metadata": {},
     "output_type": "execute_result"
    }
   ],
   "source": [
    "params_list"
   ]
  },
  {
   "cell_type": "code",
   "execution_count": 11,
   "metadata": {},
   "outputs": [
    {
     "name": "stderr",
     "output_type": "stream",
     "text": [
      "/home/etienne-reboul/anaconda3/envs/Menger_Curvature/lib/python3.10/site-packages/MDAnalysis/coordinates/DCD.py:165: DeprecationWarning: DCDReader currently makes independent timesteps by copying self.ts while other readers update self.ts inplace. This behavior will be changed in 3.0 to be the same as other readers. Read more at https://github.com/MDAnalysis/mdanalysis/issues/3889 to learn if this change in behavior might affect you.\n",
      "  warnings.warn(\"DCDReader currently makes independent timesteps\"\n"
     ]
    }
   ],
   "source": [
    "md_name=\"tubulin_chain_abc\"\n",
    "u=make_universe(\n",
    "    topology_name=f\"{md_name}.pdb\",\n",
    "    trajectory_name=f\"{md_name}.dcd\",\n",
    ")"
   ]
  },
  {
   "cell_type": "code",
   "execution_count": 12,
   "metadata": {},
   "outputs": [
    {
     "name": "stdout",
     "output_type": "stream",
     "text": [
      "Chain IDs in the universe: {'A', 'C', 'B'}\n"
     ]
    }
   ],
   "source": [
    "chainid = set(u.atoms.chainIDs)\n",
    "print(f\"Chain IDs in the universe: {chainid}\")"
   ]
  },
  {
   "cell_type": "code",
   "execution_count": 13,
   "metadata": {},
   "outputs": [],
   "source": [
    "output_dir = \"../menger/data/test_data\"\n",
    "\n",
    "# Test different spacings and chain IDs\n",
    "for spacing in range(1,6):\n",
    "    # Test with all chain IDs\n",
    "    for chain in chainid:\n",
    "        params_dict = {\n",
    "            'topology_name': f'{md_name}.pdb',\n",
    "            'trajectory_name': f'{md_name}.dcd', \n",
    "            'select': f\"name CA and chainID {chain}\",\n",
    "            'spacing': spacing,\n",
    "            'md_name': md_name,\n",
    "            'chainid': chain.lower(),\n",
    "            'digit_precision': 7\n",
    "        }\n",
    "        params_list.append(params_dict)\n",
    "        menger_analyser = MengerCurvature(u, f\"name CA and chainID {chain}\", spacing=spacing)\n",
    "        menger_analyser.run()\n",
    "        results = menger_analyser.results\n",
    "\n",
    "        # Define test cases\n",
    "        test_cases = [\n",
    "            ('menger_array', results.menger_array),\n",
    "            ('local_curvatures', results.local_curvatures),\n",
    "            ('local_flexibilities', results.local_flexibilities)\n",
    "        ]\n",
    "        # write results to file\n",
    "        # Save full menger array\n",
    "        for attr_name, test_value in test_cases:\n",
    "\n",
    "            filename = make_filename(md_name, spacing=spacing, chainid=chain.lower(), metric=attr_name)\n",
    "   \n",
    "            np.save(os.path.join(output_dir, filename), test_value)     \n",
    "    \n",
    " "
   ]
  },
  {
   "cell_type": "code",
   "execution_count": 14,
   "metadata": {},
   "outputs": [],
   "source": [
    "import json\n",
    "import os\n",
    "\n",
    "# Define the output path\n",
    "json_path = os.path.join(\"../menger/data\", \"MengerCurvature_test_parameters.json\")\n",
    "\n",
    "# Write the params_list to JSON file\n",
    "with open(json_path, 'w') as f:\n",
    "    json.dump(params_list, f, indent=4)"
   ]
  },
  {
   "cell_type": "code",
   "execution_count": null,
   "metadata": {},
   "outputs": [],
   "source": [
    "chainid "
   ]
  },
  {
   "cell_type": "code",
   "execution_count": null,
   "metadata": {},
   "outputs": [],
   "source": [
    "menger_analyser = MengerCurvature(u,\"name CA and chainID A\")\n",
    "menger_analyser.run()\n"
   ]
  },
  {
   "cell_type": "code",
   "execution_count": null,
   "metadata": {},
   "outputs": [],
   "source": [
    "%%timeit\n",
    "menger_analyser = MengerCurvature(u,\"name CA\")\n",
    "menger_analyser.run()"
   ]
  },
  {
   "cell_type": "code",
   "execution_count": null,
   "metadata": {},
   "outputs": [],
   "source": [
    "local_curvatures = menger_analyser.results.local_curvatures\n",
    "local_flexibilities = menger_analyser.results.local_flexibilities"
   ]
  },
  {
   "cell_type": "code",
   "execution_count": null,
   "metadata": {},
   "outputs": [],
   "source": [
    "def make_filename(md_name : str, spacing : int , metric : str,chainid : str| None = None) -> str:\n",
    "\n",
    "    filename : str = \"\"\n",
    "    if chainid is None:\n",
    "        filename=f\"{md_name}_{metric}.npy\"\n",
    "    else:\n",
    "       filename= f\"{md_name}_spacing_{spacing}_chain_{chainid}_{metric}.npy\"\n",
    "\n",
    "    return filename"
   ]
  },
  {
   "cell_type": "code",
   "execution_count": null,
   "metadata": {},
   "outputs": [],
   "source": [
    "make_filename(md_name,spacing=1,metric=\"local_curvatures\",chainid=chainid)"
   ]
  },
  {
   "cell_type": "code",
   "execution_count": null,
   "metadata": {},
   "outputs": [],
   "source": [
    "import os\n",
    "import numpy as np\n",
    "from menger.analysis.mengercurvature import MengerCurvature\n",
    "from pathlib import Path\n",
    "\n",
    "# Create test directory if it doesn't exist\n",
    "output_dir = \"../menger/data/test_data\"\n",
    "os.makedirs(output_dir, exist_ok=True)\n",
    "\n",
    "results = []\n",
    "spacings = range(1,6)\n",
    "\n",
    "for i, spacing in enumerate(spacings):\n",
    "\n",
    "    # run MengerCurvature analysis\n",
    "    menger_analyser = MengerCurvature(u, \"name CA\", spacing=spacing)\n",
    "    menger_analyser.run()# Get results for current spacing\n",
    "    \n",
    "    # Save local curvatures\n",
    "    output_path = os.path.join(output_dir,make_filename(md_name=md_name,\n",
    "                                                        spacing=spacing,\n",
    "                                                        metric=\"local_curvatures\",\n",
    "                                                        chainid=chainid))\n",
    "\n",
    "    np.save(output_path, menger_analyser.results.local_curvatures)\n",
    "\n",
    "    # Save local flexibilities\n",
    "    output_path = os.path.join(output_dir, make_filename(md_name=md_name,\n",
    "                                                        spacing=spacing,\n",
    "                                                        metric=\"local_flexibilities\",\n",
    "                                                        chainid=chainid))\n",
    "    np.save(output_path, menger_analyser.results.local_flexibilities)\n",
    "    \n",
    "    # Save full menger array\n",
    "    output_path = os.path.join(output_dir, make_filename(md_name=md_name,\n",
    "                                                        spacing=spacing,\n",
    "                                                        metric=\"menger_array\",\n",
    "                                                        chainid=chainid))\n",
    "    np.save(output_path, menger_analyser.results.menger_array)\n"
   ]
  },
  {
   "cell_type": "code",
   "execution_count": null,
   "metadata": {},
   "outputs": [],
   "source": [
    "output_dir"
   ]
  },
  {
   "cell_type": "code",
   "execution_count": null,
   "metadata": {},
   "outputs": [],
   "source": [
    "def test_menger_curvature(md_name  : str,universe: np.ndarray,select : str, spacing: int):\n",
    "    menger_analyser = MengerCurvature(universe, select, spacing)\n",
    "    menger_analyser.run()\n",
    "    results = menger_analyser.results\n",
    "    \n",
    "    # test menger array \n",
    "    test_menger_array = results.menger_array\n",
    "    expected_menger_array = retrieve_results(md_name, spacing, \"menger_array\")\n",
    "    assert_allclose(test_menger_array,\n",
    "                    expected_menger_array,\n",
    "                    err_msg=\"Menger array is not as expected\" + \\\n",
    "                    f\" for md: {md_name} spacing {spacing}\"\n",
    "                    )\n",
    "\n",
    "    # test local curvatures\n",
    "    test_local_curvatures = results.local_curvatures\n",
    "    expected_local_curvatures = retrieve_results(md_name, spacing, \"local_curvatures\")\n",
    "    assert_allclose(test_local_curvatures,\n",
    "                    expected_local_curvatures,\n",
    "                    err_msg=\"Local curvatures are not as expected\"+ \\\n",
    "                    f\" for md: {md_name} spacing {spacing}\"\n",
    "                    )\n",
    "\n",
    "    # test local flexibilities\n",
    "    test_local_flexibilities = results.local_flexibilities\n",
    "    expected_local_flexibilities = retrieve_results(md_name, spacing, \"local_flexibilities\")\n",
    "    assert_allclose(test_local_flexibilities,\n",
    "                    expected_local_flexibilities,\n",
    "                    err_msg=\"Local flexibilities are not as expected\"+ \\\n",
    "                    f\" for md: {md_name} spacing {spacing}\"\n",
    "                        )"
   ]
  },
  {
   "cell_type": "code",
   "execution_count": null,
   "metadata": {},
   "outputs": [],
   "source": [
    "spacing = 2"
   ]
  },
  {
   "cell_type": "code",
   "execution_count": null,
   "metadata": {},
   "outputs": [],
   "source": [
    "menger_analyser = MengerCurvature(u, \"name CA\", spacing)\n",
    "menger_analyser.run()\n",
    "results = menger_analyser.results"
   ]
  },
  {
   "cell_type": "code",
   "execution_count": null,
   "metadata": {},
   "outputs": [],
   "source": [
    "# md_name = \"tubulin_chain_a\"\n",
    "expected_menger_array = retrieve_results(md_name, spacing, \"menger_array\")"
   ]
  },
  {
   "cell_type": "code",
   "execution_count": null,
   "metadata": {},
   "outputs": [],
   "source": [
    "files.TEST_DATA_DIR"
   ]
  },
  {
   "cell_type": "code",
   "execution_count": null,
   "metadata": {},
   "outputs": [],
   "source": [
    "expected_menger_array"
   ]
  },
  {
   "cell_type": "code",
   "execution_count": null,
   "metadata": {},
   "outputs": [],
   "source": [
    "test_menger_array = results.menger_array"
   ]
  },
  {
   "cell_type": "code",
   "execution_count": null,
   "metadata": {},
   "outputs": [],
   "source": [
    "test_menger_array"
   ]
  },
  {
   "cell_type": "code",
   "execution_count": null,
   "metadata": {},
   "outputs": [],
   "source": [
    "\n",
    "# test menger array \n",
    "test_menger_array = results.menger_array\n",
    "\n",
    "assert_allclose(test_menger_array,\n",
    "                expected_menger_array,\n",
    "                err_msg=\"Menger array is not as expected\" + \\\n",
    "                f\" for md: {md_name} spacing {spacing}\"\n",
    "                )\n"
   ]
  },
  {
   "cell_type": "code",
   "execution_count": null,
   "metadata": {},
   "outputs": [],
   "source": [
    "! ls /home/etienne-reboul/anaconda3/envs/Menger_Curvature/lib/python3.10/site-packages/menger/data/test_data/"
   ]
  },
  {
   "cell_type": "code",
   "execution_count": null,
   "metadata": {},
   "outputs": [],
   "source": [
    "from menger.analysis.mengercurvature import menger_curvature"
   ]
  },
  {
   "cell_type": "code",
   "execution_count": null,
   "metadata": {},
   "outputs": [],
   "source": [
    "frame= np.array([[13.31, 34.22, 34.36],\n",
    "                                [16.89, 33.47, 35.28],\n",
    "                                [20.4 , 34.65, 34.76],\n",
    "                                [23.99, 33.21, 34.96],\n",
    "                                [27.52, 34.44, 34.73],\n",
    "                                [31.27, 33.34, 35.16],\n",
    "                                [34.95, 34.55, 34.84],\n",
    "                                [38.57, 33.49, 35.07],\n",
    "                                [42.11, 34.67, 34.64],\n",
    "                                [45.72, 33.37, 34.84],\n",
    "                                [49.49, 34.3 , 34.62],\n",
    "                                [53.24, 33.33, 34.85],\n",
    "                                [56.58, 35.18, 34.74]],\n",
    "                                dtype=np.float32)"
   ]
  },
  {
   "cell_type": "code",
   "execution_count": null,
   "metadata": {},
   "outputs": [],
   "source": [
    "np.round(menger_curvature(frame, 2), 2)"
   ]
  }
 ],
 "metadata": {
  "kernelspec": {
   "display_name": "Menger_Curvature",
   "language": "python",
   "name": "python3"
  },
  "language_info": {
   "codemirror_mode": {
    "name": "ipython",
    "version": 3
   },
   "file_extension": ".py",
   "mimetype": "text/x-python",
   "name": "python",
   "nbconvert_exporter": "python",
   "pygments_lexer": "ipython3",
   "version": "3.10.16"
  }
 },
 "nbformat": 4,
 "nbformat_minor": 2
}
