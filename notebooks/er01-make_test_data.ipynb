{
 "cells": [
  {
   "cell_type": "code",
   "execution_count": 2,
   "metadata": {},
   "outputs": [
    {
     "name": "stderr",
     "output_type": "stream",
     "text": [
      "/home/etienne-reboul/anaconda3/envs/Menger_Curvature/lib/python3.10/site-packages/tqdm/auto.py:21: TqdmWarning: IProgress not found. Please update jupyter and ipywidgets. See https://ipywidgets.readthedocs.io/en/stable/user_install.html\n",
      "  from .autonotebook import tqdm as notebook_tqdm\n"
     ]
    }
   ],
   "source": [
    "import os\n",
    "import MDAnalysis as mda\n",
    "from numpy.testing import assert_allclose\n",
    "import numpy as np"
   ]
  },
  {
   "cell_type": "code",
   "execution_count": 3,
   "metadata": {},
   "outputs": [],
   "source": [
    "from menger.data import files\n",
    "from menger.tests.utils import retrieve_results,make_universe,make_filename"
   ]
  },
  {
   "cell_type": "code",
   "execution_count": 4,
   "metadata": {},
   "outputs": [],
   "source": [
    "from menger.analysis.mengercurvature import MengerCurvature"
   ]
  },
  {
   "cell_type": "code",
   "execution_count": null,
   "metadata": {},
   "outputs": [
    {
     "name": "stderr",
     "output_type": "stream",
     "text": [
      "/home/etienne-reboul/anaconda3/envs/Menger_Curvature/lib/python3.10/site-packages/MDAnalysis/coordinates/DCD.py:165: DeprecationWarning: DCDReader currently makes independent timesteps by copying self.ts while other readers update self.ts inplace. This behavior will be changed in 3.0 to be the same as other readers. Read more at https://github.com/MDAnalysis/mdanalysis/issues/3889 to learn if this change in behavior might affect you.\n",
      "  warnings.warn(\"DCDReader currently makes independent timesteps\"\n"
     ]
    }
   ],
   "source": [
    "md_name=\"tubulin_chain_a\"\n",
    "u=make_universe(\n",
    "    topology_name=f\"{md_name}.pdb\",\n",
    "    trajectory_name=f\"{md_name}.dcd\",\n",
    ")"
   ]
  },
  {
   "cell_type": "code",
   "execution_count": 5,
   "metadata": {},
   "outputs": [
    {
     "name": "stderr",
     "output_type": "stream",
     "text": [
      "/home/etienne-reboul/anaconda3/envs/Menger_Curvature/lib/python3.10/site-packages/MDAnalysis/coordinates/DCD.py:165: DeprecationWarning: DCDReader currently makes independent timesteps by copying self.ts while other readers update self.ts inplace. This behavior will be changed in 3.0 to be the same as other readers. Read more at https://github.com/MDAnalysis/mdanalysis/issues/3889 to learn if this change in behavior might affect you.\n",
      "  warnings.warn(\"DCDReader currently makes independent timesteps\"\n"
     ]
    }
   ],
   "source": [
    "path_topo= \"../../data/topology_Tau_minimized_all_atoms_sequence_WT_renumerote.psf\"\n",
    "path_traj=\"../../data/trajectory_Tau_minimized_all_atoms_sequence_WT.dcd\"\n",
    "u_tau=mda.Universe(path_topo,path_traj)"
   ]
  },
  {
   "cell_type": "code",
   "execution_count": 6,
   "metadata": {},
   "outputs": [
    {
     "data": {
      "text/plain": [
       "6416"
      ]
     },
     "execution_count": 6,
     "metadata": {},
     "output_type": "execute_result"
    }
   ],
   "source": [
    "u_tau.atoms.n_atoms"
   ]
  },
  {
   "cell_type": "code",
   "execution_count": 7,
   "metadata": {},
   "outputs": [],
   "source": [
    "ca_atoms=u_tau.select_atoms(\"name CA\")"
   ]
  },
  {
   "cell_type": "code",
   "execution_count": 8,
   "metadata": {},
   "outputs": [
    {
     "data": {
      "text/plain": [
       "441"
      ]
     },
     "execution_count": 8,
     "metadata": {},
     "output_type": "execute_result"
    }
   ],
   "source": [
    "len(ca_atoms)"
   ]
  },
  {
   "cell_type": "code",
   "execution_count": 12,
   "metadata": {},
   "outputs": [],
   "source": [
    "tau_analyser=MengerCurvature(u_tau,select=\"name CA\",spacing=2)"
   ]
  },
  {
   "cell_type": "code",
   "execution_count": 13,
   "metadata": {},
   "outputs": [
    {
     "data": {
      "text/plain": [
       "<menger.analysis.mengercurvature.MengerCurvature at 0x73a980333d00>"
      ]
     },
     "execution_count": 13,
     "metadata": {},
     "output_type": "execute_result"
    }
   ],
   "source": [
    "tau_analyser.run()"
   ]
  },
  {
   "cell_type": "code",
   "execution_count": 15,
   "metadata": {},
   "outputs": [],
   "source": [
    "tau_analyser.run_parallel()"
   ]
  },
  {
   "cell_type": "code",
   "execution_count": 14,
   "metadata": {},
   "outputs": [
    {
     "data": {
      "text/plain": [
       "(20000, 437)"
      ]
     },
     "execution_count": 14,
     "metadata": {},
     "output_type": "execute_result"
    }
   ],
   "source": [
    "tau_analyser.results.curvature_array.shape"
   ]
  },
  {
   "cell_type": "code",
   "execution_count": 24,
   "metadata": {},
   "outputs": [
    {
     "name": "stdout",
     "output_type": "stream",
     "text": [
      "Total number of atoms in the universe: 20781\n"
     ]
    }
   ],
   "source": [
    "n_atoms = u.atoms.n_atoms\n",
    "print(f\"Total number of atoms in the universe: {n_atoms}\")"
   ]
  },
  {
   "cell_type": "code",
   "execution_count": 27,
   "metadata": {},
   "outputs": [
    {
     "name": "stdout",
     "output_type": "stream",
     "text": [
      "Number of CA atoms selected: 450\n"
     ]
    }
   ],
   "source": [
    "ca_atoms = u.select_atoms(\"name CA and chainID C\")\n",
    "print(f\"Number of CA atoms selected: {len(ca_atoms)}\")"
   ]
  },
  {
   "cell_type": "code",
   "execution_count": 28,
   "metadata": {},
   "outputs": [],
   "source": [
    "array_path =\"../menger/data/test_data/tubulin_chain_abc_spacing_5_chain_a_curvature_array.npy\"\n",
    "curvature_array = np.load(array_path)"
   ]
  },
  {
   "cell_type": "code",
   "execution_count": 29,
   "metadata": {},
   "outputs": [
    {
     "data": {
      "text/plain": [
       "(200, 440)"
      ]
     },
     "execution_count": 29,
     "metadata": {},
     "output_type": "execute_result"
    }
   ],
   "source": [
    "curvature_array.shape"
   ]
  },
  {
   "cell_type": "code",
   "execution_count": 11,
   "metadata": {},
   "outputs": [
    {
     "data": {
      "text/plain": [
       "<menger.analysis.mengercurvature.MengerCurvature at 0x7a52fdb9ee60>"
      ]
     },
     "execution_count": 11,
     "metadata": {},
     "output_type": "execute_result"
    }
   ],
   "source": [
    "menger_analyser=MengerCurvature(u,selection=\"name CA and chainID A\",spacing=2)\n",
    "menger_analyser.run()"
   ]
  },
  {
   "cell_type": "code",
   "execution_count": 12,
   "metadata": {},
   "outputs": [
    {
     "data": {
      "text/plain": [
       "KeysView({'curvature_array': array([[0.8999242 , 0.687924  , 0.737674  , ..., 0.2712029 , 0.22121999,\n",
       "        0.26541558],\n",
       "       [0.9213053 , 0.75381017, 0.68575907, ..., 0.3359868 , 0.2606454 ,\n",
       "        0.37410858],\n",
       "       [0.7684455 , 0.78443515, 0.73556346, ..., 0.2722758 , 0.20534956,\n",
       "        0.2685608 ],\n",
       "       ...,\n",
       "       [0.9846037 , 0.7679657 , 0.7203345 , ..., 0.26518935, 0.1758656 ,\n",
       "        0.2585922 ],\n",
       "       [0.89092684, 0.68492424, 0.7075504 , ..., 0.22315398, 0.22829959,\n",
       "        0.26677316],\n",
       "       [0.8631576 , 0.8196901 , 0.7403954 , ..., 0.26505134, 0.20197956,\n",
       "        0.26506937]], dtype=float32), 'local_curvatures': array([0.88876164, 0.7158077 , 0.62073916, ..., 0.22791246, 0.22153634,\n",
       "       0.2276711 ], dtype=float32), 'local_flexibilities': array([0.0494775 , 0.05085251, 0.15659133, ..., 0.08930599, 0.04687303,\n",
       "       0.05459343], dtype=float32)})"
      ]
     },
     "execution_count": 12,
     "metadata": {},
     "output_type": "execute_result"
    }
   ],
   "source": [
    "menger_analyser.results.keys()"
   ]
  },
  {
   "cell_type": "code",
   "execution_count": 13,
   "metadata": {},
   "outputs": [],
   "source": [
    "u=make_universe(\n",
    "    topology_name=f\"{md_name}.pdb\",\n",
    "    trajectory_name=f\"{md_name}.dcd\",\n",
    ")"
   ]
  },
  {
   "cell_type": "code",
   "execution_count": 14,
   "metadata": {},
   "outputs": [
    {
     "name": "stdout",
     "output_type": "stream",
     "text": [
      "Chain IDs in the universe: {'A'}\n"
     ]
    }
   ],
   "source": [
    "chainid = set(u.atoms.chainIDs)\n",
    "print(f\"Chain IDs in the universe: {chainid}\")"
   ]
  },
  {
   "cell_type": "code",
   "execution_count": 15,
   "metadata": {},
   "outputs": [],
   "source": [
    "template_dict = {\n",
    "    \"md_name\": md_name,\n",
    "    \"chainid\": \"A\",\n",
    "    \"select\" : \"name CA\",\n",
    "\n",
    "}"
   ]
  },
  {
   "cell_type": "code",
   "execution_count": 16,
   "metadata": {},
   "outputs": [],
   "source": [
    "params_list = []"
   ]
  },
  {
   "cell_type": "code",
   "execution_count": 17,
   "metadata": {},
   "outputs": [],
   "source": [
    "output_dir = \"../menger/data/test_data\"\n",
    "\n",
    "# Test different spacings and chain IDs\n",
    "for spacing in range(1,6):\n",
    "    # Test with all chain IDs\n",
    "    for chain in chainid:\n",
    "        params_dict = {\n",
    "            'topology_name': f'{md_name}.pdb',\n",
    "            'trajectory_name': f'{md_name}.dcd', \n",
    "            'select': f\"name CA and chainID {chain}\",\n",
    "            'spacing': spacing,\n",
    "            'md_name': md_name,\n",
    "            'chainid': chain.lower(),\n",
    "            \"rtol\": 1e-04\n",
    "        }\n",
    "        params_list.append(params_dict)\n",
    "        menger_analyser = MengerCurvature(u, f\"name CA and chainID {chain}\", spacing=spacing)\n",
    "        menger_analyser.run()\n",
    "        results = menger_analyser.results\n",
    "\n",
    "        # Define test cases\n",
    "        test_cases = [\n",
    "            ('curvature_array', results.curvature_array),\n",
    "            ('local_curvatures', results.local_curvatures),\n",
    "            ('local_flexibilities', results.local_flexibilities)\n",
    "        ]\n",
    "        # write results to file\n",
    "        # Save full menger array\n",
    "        for attr_name, test_value in test_cases:\n",
    "\n",
    "            filename = make_filename(md_name, spacing=spacing, chainid=chain.lower(), metric=attr_name)\n",
    "   \n",
    "            np.save(os.path.join(output_dir, filename), test_value)     \n",
    "    \n",
    "\n",
    "\n",
    "\n",
    "    "
   ]
  },
  {
   "cell_type": "code",
   "execution_count": 18,
   "metadata": {},
   "outputs": [
    {
     "data": {
      "text/plain": [
       "[{'topology_name': 'tubulin_chain_a.pdb',\n",
       "  'trajectory_name': 'tubulin_chain_a.dcd',\n",
       "  'select': 'name CA and chainID A',\n",
       "  'spacing': 1,\n",
       "  'md_name': 'tubulin_chain_a',\n",
       "  'chainid': 'a',\n",
       "  'rtol': 0.0001},\n",
       " {'topology_name': 'tubulin_chain_a.pdb',\n",
       "  'trajectory_name': 'tubulin_chain_a.dcd',\n",
       "  'select': 'name CA and chainID A',\n",
       "  'spacing': 2,\n",
       "  'md_name': 'tubulin_chain_a',\n",
       "  'chainid': 'a',\n",
       "  'rtol': 0.0001},\n",
       " {'topology_name': 'tubulin_chain_a.pdb',\n",
       "  'trajectory_name': 'tubulin_chain_a.dcd',\n",
       "  'select': 'name CA and chainID A',\n",
       "  'spacing': 3,\n",
       "  'md_name': 'tubulin_chain_a',\n",
       "  'chainid': 'a',\n",
       "  'rtol': 0.0001},\n",
       " {'topology_name': 'tubulin_chain_a.pdb',\n",
       "  'trajectory_name': 'tubulin_chain_a.dcd',\n",
       "  'select': 'name CA and chainID A',\n",
       "  'spacing': 4,\n",
       "  'md_name': 'tubulin_chain_a',\n",
       "  'chainid': 'a',\n",
       "  'rtol': 0.0001},\n",
       " {'topology_name': 'tubulin_chain_a.pdb',\n",
       "  'trajectory_name': 'tubulin_chain_a.dcd',\n",
       "  'select': 'name CA and chainID A',\n",
       "  'spacing': 5,\n",
       "  'md_name': 'tubulin_chain_a',\n",
       "  'chainid': 'a',\n",
       "  'rtol': 0.0001}]"
      ]
     },
     "execution_count": 18,
     "metadata": {},
     "output_type": "execute_result"
    }
   ],
   "source": [
    "params_list"
   ]
  },
  {
   "cell_type": "code",
   "execution_count": 19,
   "metadata": {},
   "outputs": [],
   "source": [
    "md_name=\"tubulin_chain_abc\"\n",
    "u=make_universe(\n",
    "    topology_name=f\"{md_name}.pdb\",\n",
    "    trajectory_name=f\"{md_name}.dcd\",\n",
    ")"
   ]
  },
  {
   "cell_type": "code",
   "execution_count": 20,
   "metadata": {},
   "outputs": [
    {
     "name": "stdout",
     "output_type": "stream",
     "text": [
      "Chain IDs in the universe: {'A', 'C', 'B'}\n"
     ]
    }
   ],
   "source": [
    "chainid = set(u.atoms.chainIDs)\n",
    "print(f\"Chain IDs in the universe: {chainid}\")"
   ]
  },
  {
   "cell_type": "code",
   "execution_count": 21,
   "metadata": {},
   "outputs": [],
   "source": [
    "output_dir = \"../menger/data/test_data\"\n",
    "\n",
    "# Test different spacings and chain IDs\n",
    "for spacing in range(1,6):\n",
    "    # Test with all chain IDs\n",
    "    for chain in chainid:\n",
    "        params_dict = {\n",
    "            'topology_name': f'{md_name}.pdb',\n",
    "            'trajectory_name': f'{md_name}.dcd', \n",
    "            'select': f\"name CA and chainID {chain}\",\n",
    "            'spacing': spacing,\n",
    "            'md_name': md_name,\n",
    "            'chainid': chain.lower(),\n",
    "            \"rtol\": 1e-04\n",
    "        }\n",
    "        params_list.append(params_dict)\n",
    "        menger_analyser = MengerCurvature(u, f\"name CA and chainID {chain}\", spacing=spacing)\n",
    "        menger_analyser.run()\n",
    "        results = menger_analyser.results\n",
    "\n",
    "        # Define test cases\n",
    "        test_cases = [\n",
    "            ('curvature_array', results.curvature_array),\n",
    "            ('local_curvatures', results.local_curvatures),\n",
    "            ('local_flexibilities', results.local_flexibilities)\n",
    "        ]\n",
    "        # write results to file\n",
    "        # Save full menger array\n",
    "        for attr_name, test_value in test_cases:\n",
    "\n",
    "            filename = make_filename(md_name, spacing=spacing, chainid=chain.lower(), metric=attr_name)\n",
    "   \n",
    "            np.save(os.path.join(output_dir, filename), test_value)     \n",
    "    \n",
    " "
   ]
  },
  {
   "cell_type": "code",
   "execution_count": 22,
   "metadata": {},
   "outputs": [],
   "source": [
    "import json\n",
    "import os\n",
    "\n",
    "# Define the output path\n",
    "json_path = os.path.join(\"../menger/data\", \"MengerCurvature_test_parameters.json\")\n",
    "\n",
    "# Write the params_list to JSON file\n",
    "with open(json_path, 'w') as f:\n",
    "    json.dump(params_list, f, indent=4)"
   ]
  },
  {
   "cell_type": "code",
   "execution_count": null,
   "metadata": {},
   "outputs": [],
   "source": [
    "chainid "
   ]
  },
  {
   "cell_type": "code",
   "execution_count": null,
   "metadata": {},
   "outputs": [],
   "source": [
    "menger_analyser = MengerCurvature(u,\"name CA and chainID A\")\n",
    "menger_analyser.run()\n"
   ]
  },
  {
   "cell_type": "code",
   "execution_count": null,
   "metadata": {},
   "outputs": [],
   "source": [
    "%%timeit\n",
    "menger_analyser = MengerCurvature(u,\"name CA\")\n",
    "menger_analyser.run()"
   ]
  },
  {
   "cell_type": "code",
   "execution_count": null,
   "metadata": {},
   "outputs": [],
   "source": [
    "local_curvatures = menger_analyser.results.local_curvatures\n",
    "local_flexibilities = menger_analyser.results.local_flexibilities"
   ]
  },
  {
   "cell_type": "code",
   "execution_count": null,
   "metadata": {},
   "outputs": [],
   "source": [
    "def make_filename(md_name : str, spacing : int , metric : str,chainid : str| None = None) -> str:\n",
    "\n",
    "    filename : str = \"\"\n",
    "    if chainid is None:\n",
    "        filename=f\"{md_name}_{metric}.npy\"\n",
    "    else:\n",
    "       filename= f\"{md_name}_spacing_{spacing}_chain_{chainid}_{metric}.npy\"\n",
    "\n",
    "    return filename"
   ]
  },
  {
   "cell_type": "code",
   "execution_count": null,
   "metadata": {},
   "outputs": [],
   "source": [
    "make_filename(md_name,spacing=1,metric=\"local_curvatures\",chainid=chainid)"
   ]
  },
  {
   "cell_type": "code",
   "execution_count": null,
   "metadata": {},
   "outputs": [],
   "source": [
    "import os\n",
    "import numpy as np\n",
    "from menger.analysis.mengercurvature import MengerCurvature\n",
    "from pathlib import Path\n",
    "\n",
    "# Create test directory if it doesn't exist\n",
    "output_dir = \"../menger/data/test_data\"\n",
    "os.makedirs(output_dir, exist_ok=True)\n",
    "\n",
    "results = []\n",
    "spacings = range(1,6)\n",
    "\n",
    "for i, spacing in enumerate(spacings):\n",
    "\n",
    "    # run MengerCurvature analysis\n",
    "    menger_analyser = MengerCurvature(u, \"name CA\", spacing=spacing)\n",
    "    menger_analyser.run()# Get results for current spacing\n",
    "    \n",
    "    # Save local curvatures\n",
    "    output_path = os.path.join(output_dir,make_filename(md_name=md_name,\n",
    "                                                        spacing=spacing,\n",
    "                                                        metric=\"local_curvatures\",\n",
    "                                                        chainid=chainid))\n",
    "\n",
    "    np.save(output_path, menger_analyser.results.local_curvatures)\n",
    "\n",
    "    # Save local flexibilities\n",
    "    output_path = os.path.join(output_dir, make_filename(md_name=md_name,\n",
    "                                                        spacing=spacing,\n",
    "                                                        metric=\"local_flexibilities\",\n",
    "                                                        chainid=chainid))\n",
    "    np.save(output_path, menger_analyser.results.local_flexibilities)\n",
    "    \n",
    "    # Save full menger array\n",
    "    output_path = os.path.join(output_dir, make_filename(md_name=md_name,\n",
    "                                                        spacing=spacing,\n",
    "                                                        metric=\"curvature_array\",\n",
    "                                                        chainid=chainid))\n",
    "    np.save(output_path, menger_analyser.results.curvature_array)\n"
   ]
  },
  {
   "cell_type": "code",
   "execution_count": null,
   "metadata": {},
   "outputs": [],
   "source": [
    "output_dir"
   ]
  },
  {
   "cell_type": "code",
   "execution_count": null,
   "metadata": {},
   "outputs": [],
   "source": [
    "def test_menger_curvature(md_name  : str,universe: np.ndarray,select : str, spacing: int):\n",
    "    menger_analyser = MengerCurvature(universe, select, spacing)\n",
    "    menger_analyser.run()\n",
    "    results = menger_analyser.results\n",
    "    \n",
    "    # test menger array \n",
    "    test_curvature_array = results.curvature_array\n",
    "    expected_curvature_array = retrieve_results(md_name, spacing, \"curvature_array\")\n",
    "    assert_allclose(test_curvature_array,\n",
    "                    expected_curvature_array,\n",
    "                    err_msg=\"Menger array is not as expected\" + \\\n",
    "                    f\" for md: {md_name} spacing {spacing}\"\n",
    "                    )\n",
    "\n",
    "    # test local curvatures\n",
    "    test_local_curvatures = results.local_curvatures\n",
    "    expected_local_curvatures = retrieve_results(md_name, spacing, \"local_curvatures\")\n",
    "    assert_allclose(test_local_curvatures,\n",
    "                    expected_local_curvatures,\n",
    "                    err_msg=\"Local curvatures are not as expected\"+ \\\n",
    "                    f\" for md: {md_name} spacing {spacing}\"\n",
    "                    )\n",
    "\n",
    "    # test local flexibilities\n",
    "    test_local_flexibilities = results.local_flexibilities\n",
    "    expected_local_flexibilities = retrieve_results(md_name, spacing, \"local_flexibilities\")\n",
    "    assert_allclose(test_local_flexibilities,\n",
    "                    expected_local_flexibilities,\n",
    "                    err_msg=\"Local flexibilities are not as expected\"+ \\\n",
    "                    f\" for md: {md_name} spacing {spacing}\"\n",
    "                        )"
   ]
  },
  {
   "cell_type": "code",
   "execution_count": null,
   "metadata": {},
   "outputs": [],
   "source": [
    "spacing = 2"
   ]
  },
  {
   "cell_type": "code",
   "execution_count": null,
   "metadata": {},
   "outputs": [],
   "source": [
    "menger_analyser = MengerCurvature(u, \"name CA\", spacing)\n",
    "menger_analyser.run()\n",
    "results = menger_analyser.results"
   ]
  },
  {
   "cell_type": "code",
   "execution_count": null,
   "metadata": {},
   "outputs": [],
   "source": [
    "# md_name = \"tubulin_chain_a\"\n",
    "expected_curvature_array = retrieve_results(md_name, spacing, \"curvature_array\")"
   ]
  },
  {
   "cell_type": "code",
   "execution_count": null,
   "metadata": {},
   "outputs": [],
   "source": [
    "files.TEST_DATA_DIR"
   ]
  },
  {
   "cell_type": "code",
   "execution_count": null,
   "metadata": {},
   "outputs": [],
   "source": [
    "expected_curvature_array"
   ]
  },
  {
   "cell_type": "code",
   "execution_count": null,
   "metadata": {},
   "outputs": [],
   "source": [
    "test_curvature_array = results.curvature_array"
   ]
  },
  {
   "cell_type": "code",
   "execution_count": null,
   "metadata": {},
   "outputs": [],
   "source": [
    "test_curvature_array"
   ]
  },
  {
   "cell_type": "code",
   "execution_count": null,
   "metadata": {},
   "outputs": [],
   "source": [
    "\n",
    "# test menger array \n",
    "test_curvature_array = results.curvature_array\n",
    "\n",
    "assert_allclose(test_curvature_array,\n",
    "                expected_curvature_array,\n",
    "                err_msg=\"Menger array is not as expected\" + \\\n",
    "                f\" for md: {md_name} spacing {spacing}\"\n",
    "                )\n"
   ]
  },
  {
   "cell_type": "code",
   "execution_count": null,
   "metadata": {},
   "outputs": [],
   "source": [
    "! ls /home/etienne-reboul/anaconda3/envs/Menger_Curvature/lib/python3.10/site-packages/menger/data/test_data/"
   ]
  },
  {
   "cell_type": "code",
   "execution_count": null,
   "metadata": {},
   "outputs": [],
   "source": [
    "from menger.analysis.mengercurvature import menger_curvature"
   ]
  },
  {
   "cell_type": "code",
   "execution_count": null,
   "metadata": {},
   "outputs": [],
   "source": [
    "frame= np.array([[13.31, 34.22, 34.36],\n",
    "                                [16.89, 33.47, 35.28],\n",
    "                                [20.4 , 34.65, 34.76],\n",
    "                                [23.99, 33.21, 34.96],\n",
    "                                [27.52, 34.44, 34.73],\n",
    "                                [31.27, 33.34, 35.16],\n",
    "                                [34.95, 34.55, 34.84],\n",
    "                                [38.57, 33.49, 35.07],\n",
    "                                [42.11, 34.67, 34.64],\n",
    "                                [45.72, 33.37, 34.84],\n",
    "                                [49.49, 34.3 , 34.62],\n",
    "                                [53.24, 33.33, 34.85],\n",
    "                                [56.58, 35.18, 34.74]],\n",
    "                                dtype=np.float32)"
   ]
  },
  {
   "cell_type": "code",
   "execution_count": null,
   "metadata": {},
   "outputs": [],
   "source": [
    "np.round(menger_curvature(frame, 2), 2)"
   ]
  }
 ],
 "metadata": {
  "kernelspec": {
   "display_name": "Menger_Curvature",
   "language": "python",
   "name": "python3"
  },
  "language_info": {
   "codemirror_mode": {
    "name": "ipython",
    "version": 3
   },
   "file_extension": ".py",
   "mimetype": "text/x-python",
   "name": "python",
   "nbconvert_exporter": "python",
   "pygments_lexer": "ipython3",
   "version": "3.10.16"
  }
 },
 "nbformat": 4,
 "nbformat_minor": 2
}
